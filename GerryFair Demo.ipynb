{
 "cells": [
  {
   "cell_type": "markdown",
   "metadata": {},
   "source": [
    "# GerryFair Tutorial"
   ]
  },
  {
   "cell_type": "markdown",
   "metadata": {},
   "source": [
    "## Required Data Format\n",
    "\n",
    "In order to train and audit for bias, we require three dataframes. The first two are the standard `X` and `Y`, which are the samples and their labels respectively. These should be one-hot-encoded. The third required dataframe is the list of protected attributes. This contain the values of the protected attributes for each row in the sample. These will be the attributes that we will audit for bias towards. Please note that we do not promise to protect against bias towards attributes that are not included in this list.\n",
    "\n",
    "#### Cleaning Data\n",
    "If your data is not in that format, it needs to be cleaned. We provide a method, `clean_data` in *clean.py*, you can use to clean your data into the accepted format.\n",
    "\n",
    "The variable `dataset` should hold the file path to the file containing the dataset. The variable `attributes` should hold the file path to the file containing protected attributes. This should simply be one row where a column is 2 if it is the label, 1 if it is protected, and 0 otherwise. You should set `centered` to be `True` if you want the data to be centered."
   ]
  },
  {
   "cell_type": "code",
   "execution_count": null,
   "metadata": {},
   "outputs": [],
   "source": [
    "import gerryfair\n",
    "dataset = \"./dataset/communities.csv\"\n",
    "attributes = \"./dataset/communities_protected.csv\"\n",
    "centered = True\n",
    "X, X_prime, y = gerryfair.clean.clean_dataset(dataset, attributes, centered)"
   ]
  },
  {
   "cell_type": "markdown",
   "metadata": {},
   "source": [
    "## Using tools to train a model\n",
    "\n",
    "Now, we can use the `Model` class in order to train a new model. When instatiating the object, you may provide any options that you will want when training the classifier. If you wish to change the options, you may use the `set_options` method. Both are shown below."
   ]
  },
  {
   "cell_type": "code",
   "execution_count": null,
   "metadata": {},
   "outputs": [],
   "source": [
    "C = 15\n",
    "printflag = True\n",
    "gamma = .01\n",
    "fair_model = gerryfair.model.Model(C=C, printflag=printflag, gamma=gamma)\n",
    "max_iters = 10\n",
    "fair_model.set_options(max_iters=max_iters)"
   ]
  },
  {
   "cell_type": "markdown",
   "metadata": {},
   "source": [
    "Now that we are happy with the options, we can use the `train` method to train a classifier using the Fictitious Play algorithm described in [the original paper](https://arxiv.org/abs/1711.05144v3). We will need our three dataframes from earlier. We also return the final errors and fp_difference from training.\n",
    "\n",
    "I will first split `X` and `y` into a training and a testing set."
   ]
  },
  {
   "cell_type": "code",
   "execution_count": null,
   "metadata": {},
   "outputs": [],
   "source": [
    "# Train Set\n",
    "X_train = X.iloc[:X.shape[0]-50]\n",
    "X_prime_train = X_prime.iloc[:X_prime.shape[0]-50]\n",
    "y_train = y.iloc[:y.shape[0]-50]\n",
    "# Test Set\n",
    "X_test = X.iloc[-50:].reset_index(drop=True)\n",
    "X_prime_test = X_prime.iloc[-50:].reset_index(drop=True)\n",
    "y_test = y.iloc[-50:].reset_index(drop=True)\n",
    "\n",
    "# Train the model\n",
    "[errors, fp_difference] = fair_model.train(X_train, X_prime_train, y_train)"
   ]
  },
  {
   "cell_type": "markdown",
   "metadata": {},
   "source": [
    "We can now use our model to make out of sample predictions. This can be done using the `predict` method of the object."
   ]
  },
  {
   "cell_type": "code",
   "execution_count": null,
   "metadata": {},
   "outputs": [],
   "source": [
    "predictions = fair_model.predict(X_test)"
   ]
  },
  {
   "cell_type": "markdown",
   "metadata": {},
   "source": [
    "## Using tools on evaluate a generic model\n",
    "\n",
    "Once we have a model, whether it is fictitious play model or any generic model, we can use our tools to evaluate the fairness in several ways.\n",
    "\n",
    "#### Auditing Predictions\n",
    "\n",
    "You can audit for subgroup fairness of your predictions using the functionality within the `audit` object. These predictions can come from any arbitrary model. Auditing the predictions returns the group that failed the audit and gamma unfairness of the predictions on that group. We will be using our predictions from the previous part."
   ]
  },
  {
   "cell_type": "code",
   "execution_count": null,
   "metadata": {},
   "outputs": [],
   "source": [
    "auditor = gerryfair.model.Auditor()\n",
    "[group, gamma_unfairness] = auditor.audit(predictions, X_prime_test, y_test)"
   ]
  },
  {
   "cell_type": "markdown",
   "metadata": {},
   "source": [
    "#### Plotting errors\n",
    "You can also plot the errors of the model during training using the `plot_single` function in *fairness_plots.py*. Please note that these errors are returned by our fictitious play algorithm, so this is specifically for analyzing the effectiveness of our model."
   ]
  },
  {
   "cell_type": "code",
   "execution_count": null,
   "metadata": {},
   "outputs": [],
   "source": [
    "gerryfair.fairness_plots.plot_single(errors, fp_difference, max_iters, gamma, C)"
   ]
  }
 ],
 "metadata": {
  "kernelspec": {
   "display_name": "Python 3",
   "language": "python",
   "name": "python3"
  },
  "language_info": {
   "codemirror_mode": {
    "name": "ipython",
    "version": 3
   },
   "file_extension": ".py",
   "mimetype": "text/x-python",
   "name": "python",
   "nbconvert_exporter": "python",
   "pygments_lexer": "ipython3",
   "version": "3.6.5"
  }
 },
 "nbformat": 4,
 "nbformat_minor": 2
}
